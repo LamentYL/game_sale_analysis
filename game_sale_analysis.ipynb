{
 "cells": [
  {
   "cell_type": "markdown",
   "metadata": {
    "collapsed": true,
    "pycharm": {
     "name": "#%% md\n"
    }
   },
   "source": [
    "# Game Sale Anlysis\n",
    "# Table of Contents\n",
    "1. [Introduction](#introduction)\n",
    "2. [Install packages](#install-pkg)\n",
    "3. [Data Dowloading](#data-download)\n",
    "4. [Preprocessing](#preprocessing)<br>\n",
    "    a. [Load and Clean Dataset](#load-and-clean)<br>\n",
    "    b. [Data Analysis and Visualization](#data-ana-vis)\n",
    "5. [Machine Learning Model](#ml-model)<br>\n",
    "    a. [What and Why](#what-why)<br>\n",
    "    b. [Training](#training)<br>\n",
    "    c. [Result Anlysis and Demonstration](#result-ana-demon)\n",
    "6. [Future Application](#future-app)\n",
    "7. [Reference and External Link](#ref-and-extlink)\n",
    "\n",
    "## 1. Introduction <a name=\"introduction\"></a>\n",
    "TODO:"
   ]
  },
  {
   "cell_type": "markdown",
   "source": [
    "## 2. Install Packages <a name=\"install-pkg\"></a>\n",
    "```\n",
    "pip install kaggle numpy matplotlib pandas\n",
    "```\n",
    "or use environment.yml to install packages in conda environment\n",
    "```\n",
    "conda env update -f environment.yml\n",
    "```\n",
    "## 3. Data Downloading <a name=\"data-download\"></a>"
   ],
   "metadata": {
    "collapsed": false
   }
  },
  {
   "cell_type": "code",
   "execution_count": 3,
   "outputs": [
    {
     "name": "stdout",
     "output_type": "stream",
     "text": [
      "video-games-sales-2019.zip: Skipping, found more recently modified local copy (use --force to force download)\n"
     ]
    }
   ],
   "source": [
    "import kaggle\n",
    "# remember to put kaggle.json to your C:/username/.kaggle\n",
    "!kaggle datasets download -d ashaheedq/video-games-sales-2019"
   ],
   "metadata": {
    "collapsed": false,
    "pycharm": {
     "name": "#%%\n"
    }
   }
  },
  {
   "cell_type": "markdown",
   "source": [
    "or directly download from kaggle webpage: [https://www.kaggle.com/ashaheedq/video-games-sales-2019](https://www.kaggle.com/ashaheedq/video-games-sales-2019)_\n",
    "## 4. Preprocessing <a name=\"preprocessing\"></a>\n",
    "### Load and Clean Data <a name=\"load-and-clean\"></a>"
   ],
   "metadata": {
    "collapsed": false,
    "pycharm": {
     "name": "#%% md\n"
    }
   }
  },
  {
   "cell_type": "code",
   "execution_count": 4,
   "outputs": [],
   "source": [
    "#TODO:"
   ],
   "metadata": {
    "collapsed": false,
    "pycharm": {
     "name": "#%%\n"
    }
   }
  },
  {
   "cell_type": "markdown",
   "source": [
    "### Data Analysis and Visualization' <a name=\"data-ana-vis\"></a>"
   ],
   "metadata": {
    "collapsed": false,
    "pycharm": {
     "name": "#%% md\n"
    }
   }
  },
  {
   "cell_type": "code",
   "execution_count": 5,
   "outputs": [],
   "source": [
    "#TODO:"
   ],
   "metadata": {
    "collapsed": false,
    "pycharm": {
     "name": "#%%\n"
    }
   }
  },
  {
   "cell_type": "markdown",
   "source": [
    "## 5. Machine Learning Model <a name=\"ml-model\"></a>\n",
    "### What and Why <a name=\"what-why\"></a>"
   ],
   "metadata": {
    "collapsed": false,
    "pycharm": {
     "name": "#%% md\n"
    }
   }
  },
  {
   "cell_type": "code",
   "execution_count": 6,
   "outputs": [],
   "source": [
    "#TODO:"
   ],
   "metadata": {
    "collapsed": false,
    "pycharm": {
     "name": "#%%\n"
    }
   }
  },
  {
   "cell_type": "markdown",
   "source": [
    "### Training <a name=\"training\"></a>"
   ],
   "metadata": {
    "collapsed": false,
    "pycharm": {
     "name": "#%% md\n"
    }
   }
  },
  {
   "cell_type": "code",
   "execution_count": 7,
   "outputs": [],
   "source": [
    "#TODO:"
   ],
   "metadata": {
    "collapsed": false,
    "pycharm": {
     "name": "#%%\n"
    }
   }
  },
  {
   "cell_type": "markdown",
   "source": [
    "### Result Anlysis and Demonstration <a name=\"result-ana-demon\"></a>\n",
    "TODO:\n",
    "## 6. Future Application <a name=\"future-app\"></a>\n",
    "TODO:\n",
    "## 7. Reference and External Link <a name=\"ref-and-extlink\"></a>\n",
    "TODO:"
   ],
   "metadata": {
    "collapsed": false,
    "pycharm": {
     "name": "#%% md\n"
    }
   }
  }
 ],
 "metadata": {
  "kernelspec": {
   "name": "pycharm-7738021d",
   "language": "python",
   "display_name": "PyCharm (cmsc320fall2020)"
  },
  "language_info": {
   "codemirror_mode": {
    "name": "ipython",
    "version": 2
   },
   "file_extension": ".py",
   "mimetype": "text/x-python",
   "name": "python",
   "nbconvert_exporter": "python",
   "pygments_lexer": "ipython2",
   "version": "2.7.6"
  }
 },
 "nbformat": 4,
 "nbformat_minor": 0
}